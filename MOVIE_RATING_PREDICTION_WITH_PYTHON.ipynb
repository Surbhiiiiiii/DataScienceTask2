{
  "metadata": {
    "kernelspec": {
      "language": "python",
      "display_name": "Python 3",
      "name": "python3"
    },
    "language_info": {
      "name": "python",
      "version": "3.10.13",
      "mimetype": "text/x-python",
      "codemirror_mode": {
        "name": "ipython",
        "version": 3
      },
      "pygments_lexer": "ipython3",
      "nbconvert_exporter": "python",
      "file_extension": ".py"
    },
    "kaggle": {
      "accelerator": "none",
      "dataSources": [
        {
          "sourceId": 2346296,
          "sourceType": "datasetVersion",
          "datasetId": 1416444
        }
      ],
      "dockerImageVersionId": 30746,
      "isInternetEnabled": false,
      "language": "python",
      "sourceType": "notebook",
      "isGpuEnabled": false
    },
    "colab": {
      "name": "MOVIE RATING PREDICTION WITH PYTHON",
      "provenance": []
    }
  },
  "nbformat_minor": 0,
  "nbformat": 4,
  "cells": [
    {
      "source": [],
      "metadata": {
        "id": "0WttZLFlSTVH"
      },
      "cell_type": "code",
      "outputs": [],
      "execution_count": null
    },
    {
      "cell_type": "code",
      "source": [],
      "metadata": {
        "_uuid": "8f2839f25d086af736a60e9eeb907d3b93b6e0e5",
        "_cell_guid": "b1076dfc-b9ad-4769-8c92-a6c4dae69d19",
        "execution": {
          "iopub.status.busy": "2024-07-18T08:28:19.953735Z",
          "iopub.execute_input": "2024-07-18T08:28:19.95414Z",
          "iopub.status.idle": "2024-07-18T08:28:21.184926Z",
          "shell.execute_reply.started": "2024-07-18T08:28:19.954107Z",
          "shell.execute_reply": "2024-07-18T08:28:21.183693Z"
        },
        "trusted": true,
        "id": "q0b_DjsDSTVS"
      },
      "execution_count": null,
      "outputs": []
    },
    {
      "cell_type": "markdown",
      "source": [
        "# Importing the dataset"
      ],
      "metadata": {
        "id": "TAwj7pt5STVT"
      }
    },
    {
      "cell_type": "code",
      "source": [
        "MovieData=pd.read_csv('/kaggle/input/imdb-india-movies/IMDb Movies India.csv',encoding='latin1')\n",
        "MovieData.head(10)"
      ],
      "metadata": {
        "execution": {
          "iopub.status.busy": "2024-07-18T08:28:21.187512Z",
          "iopub.execute_input": "2024-07-18T08:28:21.188181Z",
          "iopub.status.idle": "2024-07-18T08:28:21.310036Z",
          "shell.execute_reply.started": "2024-07-18T08:28:21.188105Z",
          "shell.execute_reply": "2024-07-18T08:28:21.309014Z"
        },
        "trusted": true,
        "id": "fP8VpKDpSTVV"
      },
      "execution_count": null,
      "outputs": []
    },
    {
      "cell_type": "code",
      "source": [
        "MovieData.info()"
      ],
      "metadata": {
        "execution": {
          "iopub.status.busy": "2024-07-18T08:28:21.311862Z",
          "iopub.execute_input": "2024-07-18T08:28:21.312275Z",
          "iopub.status.idle": "2024-07-18T08:28:21.353686Z",
          "shell.execute_reply.started": "2024-07-18T08:28:21.312242Z",
          "shell.execute_reply": "2024-07-18T08:28:21.35219Z"
        },
        "trusted": true,
        "id": "TCOh9FFtSTVV"
      },
      "execution_count": null,
      "outputs": []
    },
    {
      "cell_type": "code",
      "source": [
        "MovieData.shape"
      ],
      "metadata": {
        "execution": {
          "iopub.status.busy": "2024-07-18T08:28:21.35525Z",
          "iopub.execute_input": "2024-07-18T08:28:21.355621Z",
          "iopub.status.idle": "2024-07-18T08:28:21.367268Z",
          "shell.execute_reply.started": "2024-07-18T08:28:21.355576Z",
          "shell.execute_reply": "2024-07-18T08:28:21.366049Z"
        },
        "trusted": true,
        "id": "NmK0t1cTSTVW"
      },
      "execution_count": null,
      "outputs": []
    },
    {
      "cell_type": "code",
      "source": [
        "MovieData.columns"
      ],
      "metadata": {
        "execution": {
          "iopub.status.busy": "2024-07-18T08:28:21.370989Z",
          "iopub.execute_input": "2024-07-18T08:28:21.371387Z",
          "iopub.status.idle": "2024-07-18T08:28:21.381309Z",
          "shell.execute_reply.started": "2024-07-18T08:28:21.371352Z",
          "shell.execute_reply": "2024-07-18T08:28:21.379988Z"
        },
        "trusted": true,
        "id": "XnwltnD6STVX"
      },
      "execution_count": null,
      "outputs": []
    },
    {
      "cell_type": "markdown",
      "source": [
        "# Drop columns that are not useful for analysis"
      ],
      "metadata": {
        "id": "RODFEJDjSTVX"
      }
    },
    {
      "cell_type": "code",
      "source": [
        "MovieData = MovieData.drop(columns=['Name', 'Actor 2', 'Actor 3'])\n",
        "MovieData.head()"
      ],
      "metadata": {
        "execution": {
          "iopub.status.busy": "2024-07-18T08:28:21.38278Z",
          "iopub.execute_input": "2024-07-18T08:28:21.383209Z",
          "iopub.status.idle": "2024-07-18T08:28:21.409773Z",
          "shell.execute_reply.started": "2024-07-18T08:28:21.383167Z",
          "shell.execute_reply": "2024-07-18T08:28:21.408517Z"
        },
        "trusted": true,
        "id": "8m_B4mXMSTVY"
      },
      "execution_count": null,
      "outputs": []
    },
    {
      "cell_type": "code",
      "source": [
        "MovieData.dropna(inplace=True)"
      ],
      "metadata": {
        "execution": {
          "iopub.status.busy": "2024-07-18T08:28:21.411355Z",
          "iopub.execute_input": "2024-07-18T08:28:21.411794Z",
          "iopub.status.idle": "2024-07-18T08:28:21.431382Z",
          "shell.execute_reply.started": "2024-07-18T08:28:21.411762Z",
          "shell.execute_reply": "2024-07-18T08:28:21.429991Z"
        },
        "trusted": true,
        "id": "H0slrE7hSTVZ"
      },
      "execution_count": null,
      "outputs": []
    },
    {
      "cell_type": "code",
      "source": [
        "MovieData.drop_duplicates(inplace=True)\n",
        "MovieData.shape"
      ],
      "metadata": {
        "execution": {
          "iopub.status.busy": "2024-07-18T08:28:21.43338Z",
          "iopub.execute_input": "2024-07-18T08:28:21.433722Z",
          "iopub.status.idle": "2024-07-18T08:28:21.449408Z",
          "shell.execute_reply.started": "2024-07-18T08:28:21.433693Z",
          "shell.execute_reply": "2024-07-18T08:28:21.447956Z"
        },
        "trusted": true,
        "id": "dZEiaLPoSTVa"
      },
      "execution_count": null,
      "outputs": []
    },
    {
      "cell_type": "markdown",
      "source": [
        "# Handling Columns"
      ],
      "metadata": {
        "id": "PkQ1HmzvSTVb"
      }
    },
    {
      "cell_type": "code",
      "source": [
        "MovieData['Year'].unique()"
      ],
      "metadata": {
        "execution": {
          "iopub.status.busy": "2024-07-18T08:28:21.451165Z",
          "iopub.execute_input": "2024-07-18T08:28:21.451632Z",
          "iopub.status.idle": "2024-07-18T08:28:21.461328Z",
          "shell.execute_reply.started": "2024-07-18T08:28:21.451589Z",
          "shell.execute_reply": "2024-07-18T08:28:21.459945Z"
        },
        "trusted": true,
        "id": "6V2-hRbwSTVb"
      },
      "execution_count": null,
      "outputs": []
    },
    {
      "cell_type": "code",
      "source": [
        "def handleYear(value):\n",
        "    value = str(value).strip('()')\n",
        "    return int(value)\n",
        "MovieData['Year'] = MovieData['Year'].apply(handleYear)\n",
        "MovieData['Year'].head()"
      ],
      "metadata": {
        "execution": {
          "iopub.status.busy": "2024-07-18T08:28:21.462916Z",
          "iopub.execute_input": "2024-07-18T08:28:21.463362Z",
          "iopub.status.idle": "2024-07-18T08:28:21.489723Z",
          "shell.execute_reply.started": "2024-07-18T08:28:21.463317Z",
          "shell.execute_reply": "2024-07-18T08:28:21.488418Z"
        },
        "trusted": true,
        "id": "1JtzIm9JSTVb"
      },
      "execution_count": null,
      "outputs": []
    },
    {
      "cell_type": "code",
      "source": [
        "MovieData['Duration'].unique()"
      ],
      "metadata": {
        "execution": {
          "iopub.status.busy": "2024-07-18T08:28:21.491136Z",
          "iopub.execute_input": "2024-07-18T08:28:21.49157Z",
          "iopub.status.idle": "2024-07-18T08:28:21.506967Z",
          "shell.execute_reply.started": "2024-07-18T08:28:21.491528Z",
          "shell.execute_reply": "2024-07-18T08:28:21.505533Z"
        },
        "trusted": true,
        "id": "kDRni3GNSTVc"
      },
      "execution_count": null,
      "outputs": []
    },
    {
      "cell_type": "code",
      "source": [
        "def handleDuration(value):\n",
        "    value=str(value).split(' ')\n",
        "    value=value[0]\n",
        "    return int(value)\n",
        "MovieData['Duration']=MovieData['Duration'].apply(handleDuration)\n",
        "MovieData['Duration'].head()"
      ],
      "metadata": {
        "execution": {
          "iopub.status.busy": "2024-07-18T08:28:21.508337Z",
          "iopub.execute_input": "2024-07-18T08:28:21.508727Z",
          "iopub.status.idle": "2024-07-18T08:28:21.5307Z",
          "shell.execute_reply.started": "2024-07-18T08:28:21.508694Z",
          "shell.execute_reply": "2024-07-18T08:28:21.52952Z"
        },
        "trusted": true,
        "id": "1wTUAWgUSTVc"
      },
      "execution_count": null,
      "outputs": []
    },
    {
      "cell_type": "code",
      "source": [
        "MovieData['Genre'].unique()"
      ],
      "metadata": {
        "execution": {
          "iopub.status.busy": "2024-07-18T08:28:21.53224Z",
          "iopub.execute_input": "2024-07-18T08:28:21.5326Z",
          "iopub.status.idle": "2024-07-18T08:28:21.549212Z",
          "shell.execute_reply.started": "2024-07-18T08:28:21.532565Z",
          "shell.execute_reply": "2024-07-18T08:28:21.547847Z"
        },
        "trusted": true,
        "id": "GVi8D9iESTVd"
      },
      "execution_count": null,
      "outputs": []
    },
    {
      "cell_type": "code",
      "source": [
        "def split_genre_column(MovieData,Genre):\n",
        "\n",
        "    MovieData['Genre1'] = MovieData[Genre].str.split(',', expand=True)[0]\n",
        "    MovieData['Genre2'] = MovieData[Genre].str.split(',', expand=True)[1]\n",
        "    MovieData['Genre3'] = MovieData[Genre].str.split(',', expand=True)[2]\n",
        "    return MovieData\n",
        "\n",
        "split_genre_column(MovieData,'Genre')"
      ],
      "metadata": {
        "execution": {
          "iopub.status.busy": "2024-07-18T08:28:21.554345Z",
          "iopub.execute_input": "2024-07-18T08:28:21.554738Z",
          "iopub.status.idle": "2024-07-18T08:28:21.614557Z",
          "shell.execute_reply.started": "2024-07-18T08:28:21.554705Z",
          "shell.execute_reply": "2024-07-18T08:28:21.613439Z"
        },
        "trusted": true,
        "id": "xE1q5p_HSTVd"
      },
      "execution_count": null,
      "outputs": []
    },
    {
      "cell_type": "code",
      "source": [
        "MovieData.isna().sum()"
      ],
      "metadata": {
        "execution": {
          "iopub.status.busy": "2024-07-18T08:28:21.615817Z",
          "iopub.execute_input": "2024-07-18T08:28:21.616124Z",
          "iopub.status.idle": "2024-07-18T08:28:21.630083Z",
          "shell.execute_reply.started": "2024-07-18T08:28:21.616096Z",
          "shell.execute_reply": "2024-07-18T08:28:21.628696Z"
        },
        "trusted": true,
        "id": "Z90MTKBeSTVd"
      },
      "execution_count": null,
      "outputs": []
    },
    {
      "cell_type": "code",
      "source": [
        "MovieData = MovieData.fillna(0)\n",
        "MovieData.isna().sum()"
      ],
      "metadata": {
        "execution": {
          "iopub.status.busy": "2024-07-18T08:28:21.631549Z",
          "iopub.execute_input": "2024-07-18T08:28:21.631929Z",
          "iopub.status.idle": "2024-07-18T08:28:21.657881Z",
          "shell.execute_reply.started": "2024-07-18T08:28:21.631886Z",
          "shell.execute_reply": "2024-07-18T08:28:21.656612Z"
        },
        "trusted": true,
        "id": "A1vZE7oaSTVe"
      },
      "execution_count": null,
      "outputs": []
    },
    {
      "cell_type": "code",
      "source": [
        "G=['Genre1','Genre2','Genre3']\n",
        "for x in G:\n",
        "    MovieData[x],_ = pd.factorize(MovieData[x])\n",
        "\n",
        "MovieData = MovieData.drop(columns=['Genre'])\n",
        "MovieData.head(3)"
      ],
      "metadata": {
        "execution": {
          "iopub.status.busy": "2024-07-18T08:28:21.659229Z",
          "iopub.execute_input": "2024-07-18T08:28:21.659562Z",
          "iopub.status.idle": "2024-07-18T08:28:21.685303Z",
          "shell.execute_reply.started": "2024-07-18T08:28:21.659531Z",
          "shell.execute_reply": "2024-07-18T08:28:21.683949Z"
        },
        "trusted": true,
        "id": "bFlFUS0ySTVe"
      },
      "execution_count": null,
      "outputs": []
    },
    {
      "cell_type": "code",
      "source": [
        "MovieData['Votes'].unique()"
      ],
      "metadata": {
        "execution": {
          "iopub.status.busy": "2024-07-18T08:28:21.686614Z",
          "iopub.execute_input": "2024-07-18T08:28:21.687046Z",
          "iopub.status.idle": "2024-07-18T08:28:21.695817Z",
          "shell.execute_reply.started": "2024-07-18T08:28:21.687004Z",
          "shell.execute_reply": "2024-07-18T08:28:21.69434Z"
        },
        "trusted": true,
        "id": "n3l_XovzSTVe"
      },
      "execution_count": null,
      "outputs": []
    },
    {
      "cell_type": "code",
      "source": [
        "def handleVotes(value):\n",
        "    value = str(value).replace(',','')\n",
        "    return int(value)\n",
        "MovieData['Votes'] = MovieData['Votes'].apply(handleVotes)\n",
        "MovieData['Votes'].head()"
      ],
      "metadata": {
        "execution": {
          "iopub.status.busy": "2024-07-18T08:28:21.697522Z",
          "iopub.execute_input": "2024-07-18T08:28:21.69789Z",
          "iopub.status.idle": "2024-07-18T08:28:21.718302Z",
          "shell.execute_reply.started": "2024-07-18T08:28:21.697857Z",
          "shell.execute_reply": "2024-07-18T08:28:21.716766Z"
        },
        "trusted": true,
        "id": "QHf0QmY0STVe"
      },
      "execution_count": null,
      "outputs": []
    },
    {
      "cell_type": "markdown",
      "source": [
        "# Feature Engineering"
      ],
      "metadata": {
        "id": "tE1__AqySTVf"
      }
    },
    {
      "cell_type": "markdown",
      "source": [
        "## Release Year Features"
      ],
      "metadata": {
        "id": "-gX3Z_YhSTVf"
      }
    },
    {
      "cell_type": "code",
      "source": [
        "MovieData['MovieAge'] = 2024 - MovieData['Year']\n",
        "MovieData['MovieAge']"
      ],
      "metadata": {
        "execution": {
          "iopub.status.busy": "2024-07-18T08:28:21.719828Z",
          "iopub.execute_input": "2024-07-18T08:28:21.720191Z",
          "iopub.status.idle": "2024-07-18T08:28:21.734133Z",
          "shell.execute_reply.started": "2024-07-18T08:28:21.720133Z",
          "shell.execute_reply": "2024-07-18T08:28:21.732935Z"
        },
        "trusted": true,
        "id": "IvfAHDHlSTVf"
      },
      "execution_count": null,
      "outputs": []
    },
    {
      "cell_type": "markdown",
      "source": [
        "## Director and Actor Popularity"
      ],
      "metadata": {
        "id": "SQ-W-uykSTVf"
      }
    },
    {
      "cell_type": "code",
      "source": [
        "DirectorCounts =MovieData['Director'].value_counts()\n",
        "MovieData['DirectorPopularity']= MovieData['Director'].map(DirectorCounts)\n",
        "ActorCounts= MovieData['Actor 1'].value_counts()\n",
        "MovieData['ActorPopularity']=MovieData['Actor 1'].map(ActorCounts)"
      ],
      "metadata": {
        "execution": {
          "iopub.status.busy": "2024-07-18T08:28:21.735658Z",
          "iopub.execute_input": "2024-07-18T08:28:21.736585Z",
          "iopub.status.idle": "2024-07-18T08:28:21.754718Z",
          "shell.execute_reply.started": "2024-07-18T08:28:21.736537Z",
          "shell.execute_reply": "2024-07-18T08:28:21.753473Z"
        },
        "trusted": true,
        "id": "-OFlV2Z_STVg"
      },
      "execution_count": null,
      "outputs": []
    },
    {
      "cell_type": "markdown",
      "source": [
        "## Log Transformation of Votes"
      ],
      "metadata": {
        "id": "YZ-2rzpDSTVg"
      }
    },
    {
      "cell_type": "code",
      "source": [
        "MovieData['LogVotes']=np.log1p(MovieData['Votes'])\n",
        "MovieData['LogVotes']"
      ],
      "metadata": {
        "execution": {
          "iopub.status.busy": "2024-07-18T08:28:21.756655Z",
          "iopub.execute_input": "2024-07-18T08:28:21.757054Z",
          "iopub.status.idle": "2024-07-18T08:28:21.769744Z",
          "shell.execute_reply.started": "2024-07-18T08:28:21.756991Z",
          "shell.execute_reply": "2024-07-18T08:28:21.768773Z"
        },
        "trusted": true,
        "id": "NJTgTtsPSTVg"
      },
      "execution_count": null,
      "outputs": []
    },
    {
      "cell_type": "markdown",
      "source": [
        "## Historical Average Ratings"
      ],
      "metadata": {
        "id": "J3x1oROXSTVg"
      }
    },
    {
      "cell_type": "code",
      "source": [
        "DirectorAvgRating = MovieData.groupby('Director')['Rating'].mean()\n",
        "MovieData['DirectorAvgRating'] = MovieData['Director'].map(DirectorAvgRating)\n",
        "\n",
        "ActorAvgRating = MovieData[['Actor 1']].stack().reset_index(name='Actor')\n",
        "ActorAvgRating = ActorAvgRating.merge(MovieData[['Rating']], left_on='level_0', right_index=True)\n",
        "ActorAvgRating = ActorAvgRating.groupby('Actor')['Rating'].mean()\n",
        "MovieData['ActorAvgRating'] = MovieData['Actor 1'].map(ActorAvgRating)"
      ],
      "metadata": {
        "execution": {
          "iopub.status.busy": "2024-07-18T08:28:21.772056Z",
          "iopub.execute_input": "2024-07-18T08:28:21.772645Z",
          "iopub.status.idle": "2024-07-18T08:28:21.807724Z",
          "shell.execute_reply.started": "2024-07-18T08:28:21.772553Z",
          "shell.execute_reply": "2024-07-18T08:28:21.80673Z"
        },
        "trusted": true,
        "id": "Et3F7oeWSTVh"
      },
      "execution_count": null,
      "outputs": []
    },
    {
      "cell_type": "markdown",
      "source": [
        "# Visualization"
      ],
      "metadata": {
        "id": "rDi9lpBQSTVh"
      }
    },
    {
      "cell_type": "markdown",
      "source": [
        "## Director Influence on Ratings"
      ],
      "metadata": {
        "id": "oPqC8MW6STVh"
      }
    },
    {
      "cell_type": "code",
      "source": [
        "plt.figure(figsize=(12, 8))\n",
        "TopDirectors=MovieData['Director'].value_counts().index[0:10]\n",
        "sns.boxplot(data=MovieData[MovieData['Director'].isin(TopDirectors)], x='Director', y='Rating', palette='rocket')\n",
        "\n",
        "plt.title('Box Plot of Ratings by Top Directors')\n",
        "plt.xlabel('Director')\n",
        "plt.ylabel('Rating')\n",
        "plt.xticks(rotation=45)\n",
        "plt.show()"
      ],
      "metadata": {
        "execution": {
          "iopub.status.busy": "2024-07-18T08:28:21.809221Z",
          "iopub.execute_input": "2024-07-18T08:28:21.810064Z",
          "iopub.status.idle": "2024-07-18T08:28:22.347164Z",
          "shell.execute_reply.started": "2024-07-18T08:28:21.810021Z",
          "shell.execute_reply": "2024-07-18T08:28:22.345823Z"
        },
        "trusted": true,
        "id": "1LogRbp_STVh"
      },
      "execution_count": null,
      "outputs": []
    },
    {
      "cell_type": "markdown",
      "source": [
        "-- Ratings are positively affected by top directors like Hrishikesh Mukherjee and Shakti Samanta, who consistently receive higher median ratings.\n",
        "\n",
        "-- directors like Ram Gopal Varma and Vikram Bhatt exhibit a wide range of ratings, indicating variable reception and less predictable quality\n",
        "\n",
        "-- Notable outliers for directors like Mahesh Bhatt highlight significant deviations in their movie ratings"
      ],
      "metadata": {
        "id": "3zH1XeNuSTVi"
      }
    },
    {
      "cell_type": "markdown",
      "source": [
        "## Actor Influence on Ratings"
      ],
      "metadata": {
        "id": "DfJwCVafSTVi"
      }
    },
    {
      "cell_type": "code",
      "source": [
        "plt.figure(figsize=(12, 8))\n",
        "TopActors = MovieData['Actor 1'].value_counts().index[:10]\n",
        "sns.boxplot(data=MovieData[MovieData['Actor 1'].isin(TopActors)], x='Actor 1', y='Rating', palette='mako')\n",
        "\n",
        "plt.title('Box Plot of Ratings by Top Actors')\n",
        "plt.xlabel('Actor 1')\n",
        "plt.ylabel('Rating')\n",
        "plt.xticks(rotation=45)\n",
        "plt.show()"
      ],
      "metadata": {
        "execution": {
          "iopub.status.busy": "2024-07-18T08:28:22.34855Z",
          "iopub.execute_input": "2024-07-18T08:28:22.349023Z",
          "iopub.status.idle": "2024-07-18T08:28:22.836419Z",
          "shell.execute_reply.started": "2024-07-18T08:28:22.348977Z",
          "shell.execute_reply": "2024-07-18T08:28:22.83522Z"
        },
        "trusted": true,
        "id": "dlnu8pmJSTVi"
      },
      "execution_count": null,
      "outputs": []
    },
    {
      "cell_type": "markdown",
      "source": [
        "--Ratings are positively affected by top actors like Amitabh Bachchan and Shashi Kapoor, who consistently receive higher median ratings\n",
        "\n",
        "-- Actors like Ajay Devgn and Sanjay Dutt show a wide range of ratings, indicating variable reception.\n",
        "\n",
        "--Significant outliers for actors like Mithun Chakraborty and Dharmendra highlight notable deviations in their movie ratings."
      ],
      "metadata": {
        "id": "Ynrc9JAeSTVi"
      }
    },
    {
      "cell_type": "markdown",
      "source": [
        "## Genre Vs Rating pairplot"
      ],
      "metadata": {
        "id": "MTG_s7xCSTVp"
      }
    },
    {
      "cell_type": "code",
      "source": [
        "GenreColumns=['Genre1','Genre2','Genre3','Rating']\n",
        "plt.figure(figsize=(15,12))\n",
        "sns.pairplot(MovieData[GenreColumns],diag_kind='kde',kind='scatter')\n",
        "\n",
        "plt.suptitle('Pairplot of Factorized Genres and Ratings', y=1.02)\n",
        "plt.show()"
      ],
      "metadata": {
        "execution": {
          "iopub.status.busy": "2024-07-18T08:28:42.282004Z",
          "iopub.execute_input": "2024-07-18T08:28:42.282445Z"
        },
        "trusted": true,
        "id": "dZc6_-XZSTVp"
      },
      "execution_count": null,
      "outputs": []
    },
    {
      "cell_type": "markdown",
      "source": [
        "-- no single genre combination heavily influences the ratings.\n",
        "\n",
        "-- The distribution of the Genre1 is heavily skewed towards a few dominant genres, while Genre2, Genre3 show more diverse but less frequent distributions."
      ],
      "metadata": {
        "id": "HeW_TpxMSTVp"
      }
    },
    {
      "cell_type": "markdown",
      "source": [
        "## Distribution of Duration"
      ],
      "metadata": {
        "id": "cznD6JFqSTVp"
      }
    },
    {
      "cell_type": "code",
      "source": [
        "plt.figure(figsize=(10,6))\n",
        "sns.histplot(MovieData['Duration'],bins=20,kde=True,color='lightcoral')\n",
        "\n",
        "plt.title('Distribution of Movie Duration')\n",
        "plt.xlabel('Duration (minutes)')\n",
        "plt.ylabel('Frequency')\n",
        "plt.show()"
      ],
      "metadata": {
        "execution": {
          "iopub.status.busy": "2024-07-18T08:29:51.19681Z",
          "iopub.execute_input": "2024-07-18T08:29:51.19804Z",
          "iopub.status.idle": "2024-07-18T08:29:51.682026Z",
          "shell.execute_reply.started": "2024-07-18T08:29:51.197989Z",
          "shell.execute_reply": "2024-07-18T08:29:51.680721Z"
        },
        "trusted": true,
        "id": "gi60W9QFSTVq"
      },
      "execution_count": null,
      "outputs": []
    },
    {
      "cell_type": "markdown",
      "source": [
        "-- shows that the majority of movies have durations between 100 and 150 minutes"
      ],
      "metadata": {
        "id": "c3yg9ymaSTVq"
      }
    },
    {
      "cell_type": "markdown",
      "source": [
        "## Box Plot of Ratings by Year"
      ],
      "metadata": {
        "id": "LdpExvLUSTVq"
      }
    },
    {
      "cell_type": "code",
      "source": [
        "plt.figure(figsize=(25,9))\n",
        "sns.boxplot(data=MovieData,x='Year',y='Rating',palette='Spectral')\n",
        "sns.dark_palette(\"#69d\",reverse=True,as_cmap=True)\n",
        "plt.title('Box Plot of Ratings by Year')\n",
        "plt.xlabel('Year')\n",
        "plt.ylabel('Rating')\n",
        "plt.xticks(rotation=45)\n",
        "plt.show()"
      ],
      "metadata": {
        "execution": {
          "iopub.status.busy": "2024-07-18T08:30:41.72901Z",
          "iopub.execute_input": "2024-07-18T08:30:41.729432Z",
          "iopub.status.idle": "2024-07-18T08:30:43.877601Z",
          "shell.execute_reply.started": "2024-07-18T08:30:41.729398Z",
          "shell.execute_reply": "2024-07-18T08:30:43.876252Z"
        },
        "trusted": true,
        "id": "h7IJBZNSSTVr"
      },
      "execution_count": null,
      "outputs": []
    },
    {
      "cell_type": "markdown",
      "source": [
        "-- There is a general upward trend in movie ratings over the years\n",
        "\n",
        "-- Outliers are more in the earlier years."
      ],
      "metadata": {
        "id": "lZ_t7Y4RSTVr"
      }
    },
    {
      "cell_type": "markdown",
      "source": [
        "## Votes Distribution"
      ],
      "metadata": {
        "id": "bMLqggwBSTVr"
      }
    },
    {
      "cell_type": "code",
      "source": [
        "plt.figure(figsize=(10,6))\n",
        "sns.histplot(MovieData['Votes'],bins=20,kde=True,color='blue')\n",
        "plt.title('Distribution of Movie Votes')\n",
        "plt.xlabel('Votes')\n",
        "plt.ylabel('Frequency')\n",
        "plt.xscale('log')\n",
        "plt.show()"
      ],
      "metadata": {
        "execution": {
          "iopub.status.busy": "2024-07-18T08:31:52.193807Z",
          "iopub.execute_input": "2024-07-18T08:31:52.194251Z",
          "iopub.status.idle": "2024-07-18T08:31:53.128774Z",
          "shell.execute_reply.started": "2024-07-18T08:31:52.194213Z",
          "shell.execute_reply": "2024-07-18T08:31:53.127466Z"
        },
        "trusted": true,
        "id": "I4qgfD-gSTVr"
      },
      "execution_count": null,
      "outputs": []
    },
    {
      "cell_type": "markdown",
      "source": [
        "-- Most movies received less number of votes\n",
        "\n",
        "-- There is a rapid decline in frequency as the number of votes increases.\n",
        "\n",
        "-- Very few movies received a high number of votes."
      ],
      "metadata": {
        "id": "WHd3HEZjSTVs"
      }
    },
    {
      "cell_type": "markdown",
      "source": [
        "## Violin Plot of Ratings by Genre"
      ],
      "metadata": {
        "id": "3a-pKUI0STVs"
      }
    },
    {
      "cell_type": "code",
      "source": [
        "plt.figure(figsize=(17,8))\n",
        "sns.violinplot(data=MovieData,x='Genre1',y='Rating',palette='Set2')\n",
        "plt.title('Violin Plot of Ratings by Genre')\n",
        "plt.xlabel('Genre')\n",
        "plt.ylabel('Rating')\n",
        "plt.xticks(rotation=45)\n",
        "plt.show()"
      ],
      "metadata": {
        "execution": {
          "iopub.status.busy": "2024-07-18T08:32:48.375542Z",
          "iopub.execute_input": "2024-07-18T08:32:48.376599Z",
          "iopub.status.idle": "2024-07-18T08:32:49.283243Z",
          "shell.execute_reply.started": "2024-07-18T08:32:48.376553Z",
          "shell.execute_reply": "2024-07-18T08:32:49.282109Z"
        },
        "trusted": true,
        "id": "bQa2JL8LSTVs"
      },
      "execution_count": null,
      "outputs": []
    },
    {
      "cell_type": "markdown",
      "source": [
        "## Joint Plot of Votes vs Rating"
      ],
      "metadata": {
        "id": "tANlm5YwSTVt"
      }
    },
    {
      "cell_type": "code",
      "source": [
        "sns.jointplot(data=MovieData,x='Votes',y='Rating',kind='hex',cmap='plasma')\n",
        "plt.suptitle('Joint Plot of Votes vs Rating', y=1.02)\n",
        "plt.show()"
      ],
      "metadata": {
        "execution": {
          "iopub.status.busy": "2024-07-18T08:33:16.546409Z",
          "iopub.execute_input": "2024-07-18T08:33:16.546857Z",
          "iopub.status.idle": "2024-07-18T08:33:27.890534Z",
          "shell.execute_reply.started": "2024-07-18T08:33:16.546818Z",
          "shell.execute_reply": "2024-07-18T08:33:27.889248Z"
        },
        "trusted": true,
        "id": "NZmY3s2USTVt"
      },
      "execution_count": null,
      "outputs": []
    },
    {
      "cell_type": "code",
      "source": [
        "MovieData['Genre1 encoded'] =round(MovieData.groupby('Genre1')['Rating'].transform('mean'),1)\n",
        "MovieData['Genre2 encoded']=round(MovieData.groupby('Genre2')['Rating'].transform('mean'),1)\n",
        "MovieData['Genre3 encoded'] =round(MovieData.groupby('Genre3')['Rating'].transform('mean'),1)\n",
        "MovieData['Votes encoded'] =round(MovieData.groupby('Votes')['Rating'].transform('mean'), 1)\n",
        "MovieData['Director encoded']= round(MovieData.groupby('Director')['Rating'].transform('mean'), 1)\n",
        "MovieData['Actor 1 encoded']= round(MovieData.groupby('Actor 1')['Rating'].transform('mean'), 1)\n",
        "MovieData.head()"
      ],
      "metadata": {
        "execution": {
          "iopub.status.busy": "2024-07-18T08:33:36.003809Z",
          "iopub.execute_input": "2024-07-18T08:33:36.004219Z",
          "iopub.status.idle": "2024-07-18T08:33:36.059192Z",
          "shell.execute_reply.started": "2024-07-18T08:33:36.004185Z",
          "shell.execute_reply": "2024-07-18T08:33:36.057998Z"
        },
        "trusted": true,
        "id": "WL0sI5AKSTVt"
      },
      "execution_count": null,
      "outputs": []
    },
    {
      "cell_type": "code",
      "source": [
        "MovieData.drop(columns=['Genre1','Votes','Director','Actor 1','Genre2','Genre3'],inplace=True)\n",
        "MovieData['Rating'] =round(MovieData['Rating'],1)"
      ],
      "metadata": {
        "execution": {
          "iopub.status.busy": "2024-07-18T08:33:49.013441Z",
          "iopub.execute_input": "2024-07-18T08:33:49.013865Z",
          "iopub.status.idle": "2024-07-18T08:33:49.023499Z",
          "shell.execute_reply.started": "2024-07-18T08:33:49.013823Z",
          "shell.execute_reply": "2024-07-18T08:33:49.022245Z"
        },
        "trusted": true,
        "id": "H6NZOw21STVt"
      },
      "execution_count": null,
      "outputs": []
    },
    {
      "cell_type": "markdown",
      "source": [
        "# Building the Model"
      ],
      "metadata": {
        "id": "28C0jAUTSTVu"
      }
    },
    {
      "cell_type": "code",
      "source": [
        "from sklearn.model_selection import train_test_split\n",
        "from sklearn.ensemble import RandomForestRegressor, GradientBoostingRegressor\n",
        "from sklearn.neural_network import MLPRegressor\n",
        "from sklearn.svm import SVR\n",
        "import xgboost as xgb\n",
        "from sklearn.linear_model import LinearRegression\n",
        "from sklearn.metrics import mean_squared_error\n",
        "from sklearn.metrics import r2_score\n",
        "from sklearn.tree import DecisionTreeRegressor\n",
        "import catboost as cb"
      ],
      "metadata": {
        "execution": {
          "iopub.status.busy": "2024-07-18T08:34:17.968701Z",
          "iopub.execute_input": "2024-07-18T08:34:17.969131Z",
          "iopub.status.idle": "2024-07-18T08:34:18.893237Z",
          "shell.execute_reply.started": "2024-07-18T08:34:17.969097Z",
          "shell.execute_reply": "2024-07-18T08:34:18.891926Z"
        },
        "trusted": true,
        "id": "7MIRp7uISTVu"
      },
      "execution_count": null,
      "outputs": []
    },
    {
      "cell_type": "markdown",
      "source": [
        "## Train-Test Split"
      ],
      "metadata": {
        "id": "VRb_9SBSSTVv"
      }
    },
    {
      "cell_type": "code",
      "source": [
        "X=MovieData.drop(\"Rating\",axis=1)\n",
        "Y=MovieData[\"Rating\"]\n",
        "\n",
        "X_train,X_test,Y_train,Y_test=train_test_split(X,Y,test_size=0.2,random_state=52)\n",
        "\n",
        "model=LinearRegression()\n",
        "model.fit(X_train,Y_train)\n",
        "\n",
        "X_test_prediction= model.predict(X_test)\n",
        "\n",
        "mse =mean_squared_error(Y_test,X_test_prediction)\n",
        "print(f\"Mean Squared Error (MSE): {mse:.2f}\")\n",
        "\n",
        "r2 = r2_score(Y_test,X_test_prediction)\n",
        "print(f\"R-squared score: {r2:.2f}\")"
      ],
      "metadata": {
        "execution": {
          "iopub.status.busy": "2024-07-18T08:34:41.215015Z",
          "iopub.execute_input": "2024-07-18T08:34:41.215583Z",
          "iopub.status.idle": "2024-07-18T08:34:41.28309Z",
          "shell.execute_reply.started": "2024-07-18T08:34:41.215533Z",
          "shell.execute_reply": "2024-07-18T08:34:41.281439Z"
        },
        "trusted": true,
        "id": "rWNJdcLpSTVv"
      },
      "execution_count": null,
      "outputs": []
    },
    {
      "cell_type": "markdown",
      "source": [
        "## Decision Trees"
      ],
      "metadata": {
        "id": "TxdR3WRTSTVv"
      }
    },
    {
      "cell_type": "code",
      "source": [
        "X_train,X_test,Y_train,Y_test=train_test_split(X,Y,test_size=0.1)\n",
        "\n",
        "model_DT=DecisionTreeRegressor(random_state=42)\n",
        "model_DT.fit(X_train,Y_train)\n",
        "X_test_prediction_DT=model_DT.predict(X_test)\n",
        "\n",
        "mse_DT =mean_squared_error(Y_test,X_test_prediction_DT)\n",
        "print(f\"Mean Squared Error (MSE): {mse_DT:.2f}\")\n",
        "\n",
        "r2_DT = r2_score(Y_test,X_test_prediction_DT)\n",
        "print(f\"R-squared score: {r2_DT:.2f}\")"
      ],
      "metadata": {
        "execution": {
          "iopub.status.busy": "2024-07-18T08:35:19.790959Z",
          "iopub.execute_input": "2024-07-18T08:35:19.792221Z",
          "iopub.status.idle": "2024-07-18T08:35:19.864707Z",
          "shell.execute_reply.started": "2024-07-18T08:35:19.792175Z",
          "shell.execute_reply": "2024-07-18T08:35:19.863509Z"
        },
        "trusted": true,
        "id": "DybFW6suSTVv"
      },
      "execution_count": null,
      "outputs": []
    },
    {
      "cell_type": "markdown",
      "source": [
        "## Random Forests"
      ],
      "metadata": {
        "id": "ttzpICi6STVw"
      }
    },
    {
      "cell_type": "code",
      "source": [
        "X_train,X_test,Y_train,Y_test=train_test_split(X,Y,test_size=0.1)\n",
        "\n",
        "model_RF=RandomForestRegressor(n_estimators=100,random_state=50)\n",
        "model_RF.fit(X_train,Y_train)\n",
        "X_test_prediction_RF=model_RF.predict(X_test)\n",
        "\n",
        "mse_RF =mean_squared_error(Y_test,X_test_prediction_RF)\n",
        "print(f\"Mean Squared Error (MSE): {mse_RF:.2f}\")\n",
        "\n",
        "r2_RF = r2_score(Y_test,X_test_prediction_RF)\n",
        "print(f\"R-squared score: {r2_RF:.2f}\")"
      ],
      "metadata": {
        "execution": {
          "iopub.status.busy": "2024-07-18T08:36:42.752794Z",
          "iopub.execute_input": "2024-07-18T08:36:42.753218Z",
          "iopub.status.idle": "2024-07-18T08:36:46.392036Z",
          "shell.execute_reply.started": "2024-07-18T08:36:42.753184Z",
          "shell.execute_reply": "2024-07-18T08:36:46.390695Z"
        },
        "trusted": true,
        "id": "ZIBKa8iiSTVw"
      },
      "execution_count": null,
      "outputs": []
    },
    {
      "cell_type": "markdown",
      "source": [
        "## Gradient Boosting"
      ],
      "metadata": {
        "id": "dyDd2bvcSTVw"
      }
    },
    {
      "cell_type": "code",
      "source": [
        "X_train,X_test,Y_train,Y_test=train_test_split(X,Y,test_size=0.1)\n",
        "\n",
        "model_GB = GradientBoostingRegressor(n_estimators=100,random_state=50)\n",
        "model_GB.fit(X_train,Y_train)\n",
        "X_test_prediction_GB=model_GB.predict(X_test)\n",
        "\n",
        "mse_GB =mean_squared_error(Y_test,X_test_prediction_GB)\n",
        "print(f\"Mean Squared Error (MSE): {mse_GB:.2f}\")\n",
        "\n",
        "r2_GB= r2_score(Y_test,X_test_prediction_GB)\n",
        "print(f\"R-squared score: {r2_GB:.2f}\")"
      ],
      "metadata": {
        "execution": {
          "iopub.status.busy": "2024-07-18T08:39:27.94205Z",
          "iopub.execute_input": "2024-07-18T08:39:27.942468Z",
          "iopub.status.idle": "2024-07-18T08:39:28.991163Z",
          "shell.execute_reply.started": "2024-07-18T08:39:27.942433Z",
          "shell.execute_reply": "2024-07-18T08:39:28.990053Z"
        },
        "trusted": true,
        "id": "kV45Mc5jSTVw"
      },
      "execution_count": null,
      "outputs": []
    },
    {
      "cell_type": "markdown",
      "source": [
        "## Support Vector Machines (SVM)"
      ],
      "metadata": {
        "id": "o6fLwefLSTVx"
      }
    },
    {
      "cell_type": "code",
      "source": [
        "X_train,X_test,Y_train,Y_test=train_test_split(X,Y,test_size=0.1)\n",
        "\n",
        "model_SVR = SVR(kernel='linear',C=1.0,epsilon=0.1,gamma='scale')\n",
        "model_SVR.fit(X_train,Y_train)\n",
        "X_test_prediction_SVR=model_SVR.predict(X_test)\n",
        "\n",
        "mse_SVR =mean_squared_error(Y_test,X_test_prediction_SVR)\n",
        "print(f\"Mean Squared Error (MSE): {mse_SVR:.2f}\")\n",
        "\n",
        "r2_SVR= r2_score(Y_test,X_test_prediction_SVR)\n",
        "print(f\"R-squared score: {r2_SVR:.2f}\")"
      ],
      "metadata": {
        "execution": {
          "iopub.status.busy": "2024-07-18T08:42:36.128282Z",
          "iopub.execute_input": "2024-07-18T08:42:36.12869Z",
          "iopub.status.idle": "2024-07-18T08:42:53.44828Z",
          "shell.execute_reply.started": "2024-07-18T08:42:36.128658Z",
          "shell.execute_reply": "2024-07-18T08:42:53.44704Z"
        },
        "trusted": true,
        "id": "5EQ0jbU3STVx"
      },
      "execution_count": null,
      "outputs": []
    },
    {
      "cell_type": "markdown",
      "source": [
        "## Neural Networks"
      ],
      "metadata": {
        "id": "Er8YDEJ4STVx"
      }
    },
    {
      "cell_type": "code",
      "source": [
        "X_train,X_test,Y_train,Y_test=train_test_split(X,Y,test_size=0.1)\n",
        "\n",
        "model_NN = MLPRegressor(hidden_layer_sizes=(100,),random_state=42)\n",
        "model_NN.fit(X_train,Y_train)\n",
        "X_test_prediction_NN=model_NN.predict(X_test)\n",
        "\n",
        "mse_NN =mean_squared_error(Y_test,X_test_prediction_NN)\n",
        "print(f\"Mean Squared Error (MSE):{mse_NN:.2f}\")\n",
        "\n",
        "r2_NN= r2_score(Y_test,X_test_prediction_NN)\n",
        "print(f\"R-squared score:{r2_NN:.2f}\")"
      ],
      "metadata": {
        "execution": {
          "iopub.status.busy": "2024-07-18T08:41:51.62353Z",
          "iopub.execute_input": "2024-07-18T08:41:51.624338Z",
          "iopub.status.idle": "2024-07-18T08:41:55.512174Z",
          "shell.execute_reply.started": "2024-07-18T08:41:51.624288Z",
          "shell.execute_reply": "2024-07-18T08:41:55.510625Z"
        },
        "trusted": true,
        "id": "_ljuvFSuSTVx"
      },
      "execution_count": null,
      "outputs": []
    },
    {
      "cell_type": "markdown",
      "source": [
        "## XGBoost"
      ],
      "metadata": {
        "id": "yaA2Qv8oSTVx"
      }
    },
    {
      "cell_type": "code",
      "source": [
        "X_train,X_test,Y_train,Y_test=train_test_split(X,Y,test_size=0.1)\n",
        "\n",
        "model_XG = xgb.XGBRegressor(n_estimators=100,random_state=52)\n",
        "model_XG.fit(X_train,Y_train)\n",
        "X_test_prediction_XG=model_XG.predict(X_test)\n",
        "\n",
        "mse_XG =mean_squared_error(Y_test,X_test_prediction_XG)\n",
        "print(f\"Mean Squared Error (MSE):{mse_XG:.2f}\")\n",
        "\n",
        "r2_XG= r2_score(Y_test,X_test_prediction_XG)\n",
        "print(f\"R-squared score:{r2_XG:.2f}\")"
      ],
      "metadata": {
        "execution": {
          "iopub.status.busy": "2024-07-18T08:43:01.94068Z",
          "iopub.execute_input": "2024-07-18T08:43:01.941103Z",
          "iopub.status.idle": "2024-07-18T08:43:02.13597Z",
          "shell.execute_reply.started": "2024-07-18T08:43:01.941067Z",
          "shell.execute_reply": "2024-07-18T08:43:02.135094Z"
        },
        "trusted": true,
        "id": "3A19YhpVSTVy"
      },
      "execution_count": null,
      "outputs": []
    },
    {
      "cell_type": "markdown",
      "source": [
        "## CatBoost"
      ],
      "metadata": {
        "id": "V6HDm7vaSTVy"
      }
    },
    {
      "cell_type": "code",
      "source": [
        "X_train,X_test,Y_train,Y_test=train_test_split(X,Y,test_size=0.1)\n",
        "\n",
        "model_CB = cb.CatBoostRegressor(iterations=100,random_state=42,verbose=0)\n",
        "model_CB.fit(X_train,Y_train)\n",
        "X_test_prediction_CB=model_CB.predict(X_test)\n",
        "\n",
        "mse_CB =mean_squared_error(Y_test,X_test_prediction_CB)\n",
        "print(f\"Mean Squared Error (MSE):{mse_CB:.2f}\")\n",
        "\n",
        "r2_CB= r2_score(Y_test,X_test_prediction_CB)\n",
        "print(f\"R-squared score:{r2_CB:.2f}\")"
      ],
      "metadata": {
        "execution": {
          "iopub.status.busy": "2024-07-18T08:44:22.172712Z",
          "iopub.execute_input": "2024-07-18T08:44:22.173135Z",
          "iopub.status.idle": "2024-07-18T08:44:22.467528Z",
          "shell.execute_reply.started": "2024-07-18T08:44:22.173101Z",
          "shell.execute_reply": "2024-07-18T08:44:22.466357Z"
        },
        "trusted": true,
        "id": "VyAfpmCuSTVy"
      },
      "execution_count": null,
      "outputs": []
    },
    {
      "cell_type": "markdown",
      "source": [
        "## Results of all models"
      ],
      "metadata": {
        "id": "K1Ua3c_KSTVy"
      }
    },
    {
      "cell_type": "code",
      "source": [
        "results = pd.DataFrame({\n",
        "    'Model': ['Linear Regression','Decision Tree','Random Forest','Gradient Boosting',\n",
        "              'Support Vector Machine','Neural Network','XGBoost','CatBoost'],\n",
        "    'Mean Squared Error (MSE)': [mse*100,mse_DT*100,mse_RF*100, mse_GB*100,mse_SVR*100,mse_NN*100, mse_XG*100, mse_CB*100],\n",
        "    'R-squared score (R2)': [r2*100, r2_DT*100,r2_RF*100,r2_GB*100,r2_SVR*100,r2_NN*100,r2_XG*100,r2_CB*100]\n",
        "})\n",
        "print(results)"
      ],
      "metadata": {
        "execution": {
          "iopub.status.busy": "2024-07-18T08:45:56.714887Z",
          "iopub.execute_input": "2024-07-18T08:45:56.715339Z",
          "iopub.status.idle": "2024-07-18T08:45:56.727523Z",
          "shell.execute_reply.started": "2024-07-18T08:45:56.715306Z",
          "shell.execute_reply": "2024-07-18T08:45:56.72613Z"
        },
        "trusted": true,
        "id": "oevNM-gxSTVy"
      },
      "execution_count": null,
      "outputs": []
    },
    {
      "cell_type": "markdown",
      "source": [
        "## Comparision of Results."
      ],
      "metadata": {
        "id": "aW1S_0Q6STVy"
      }
    },
    {
      "cell_type": "code",
      "source": [
        "models = results['Model']\n",
        "mse_scores = results['Mean Squared Error (MSE)'].round(2)\n",
        "r2_scores = results['R-squared score (R2)'].round(2)\n",
        "num_models = len(models)\n",
        "bar_width = 0.35\n",
        "index = np.arange(num_models)"
      ],
      "metadata": {
        "execution": {
          "iopub.status.busy": "2024-07-18T08:47:02.939072Z",
          "iopub.execute_input": "2024-07-18T08:47:02.94026Z",
          "iopub.status.idle": "2024-07-18T08:47:02.950881Z",
          "shell.execute_reply.started": "2024-07-18T08:47:02.940206Z",
          "shell.execute_reply": "2024-07-18T08:47:02.949175Z"
        },
        "trusted": true,
        "id": "e6gYn8C0STVy"
      },
      "execution_count": null,
      "outputs": []
    },
    {
      "cell_type": "code",
      "source": [
        "plt.figure(figsize=(12, 8))\n",
        "\n",
        "plt.bar(index,mse_scores,bar_width,label='Mean Squared Error (MSE)',color='pink',alpha=0.7)\n",
        "plt.bar(index +bar_width,r2_scores, bar_width,label='R-squared (R2)',color='purple',alpha=0.7)\n",
        "\n",
        "plt.xlabel('Models')\n",
        "plt.ylabel('Scores')\n",
        "plt.title('Comparison of MSE and R-squared (R2) Scores for Different Models')\n",
        "plt.xticks(index +bar_width/2,models,rotation=45)\n",
        "plt.legend()\n",
        "plt.grid(axis='y')\n",
        "plt.tight_layout()\n",
        "plt.show()"
      ],
      "metadata": {
        "execution": {
          "iopub.status.busy": "2024-07-18T08:47:36.23535Z",
          "iopub.execute_input": "2024-07-18T08:47:36.235747Z",
          "iopub.status.idle": "2024-07-18T08:47:36.725234Z",
          "shell.execute_reply.started": "2024-07-18T08:47:36.235717Z",
          "shell.execute_reply": "2024-07-18T08:47:36.723974Z"
        },
        "trusted": true,
        "id": "WSxmXDXZSTVy"
      },
      "execution_count": null,
      "outputs": []
    }
  ]
}